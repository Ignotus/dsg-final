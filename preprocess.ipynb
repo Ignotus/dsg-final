{
 "cells": [
  {
   "cell_type": "code",
   "execution_count": null,
   "metadata": {
    "collapsed": false
   },
   "outputs": [],
   "source": [
    "import numpy as np\n",
    "import pandas as pd\n",
    "import os\n",
    "# Seed the random generator.\n",
    "np.random.seed(0)\n",
    "\n",
    "\n",
    "paths = ['data/X_train.csv', 'data/Y_train.csv', 'data/X_test.csv' ]\n",
    "\n",
    "# read all that is relevant for \n",
    "ALL_FEATURES = pd.read_csv(paths[0], sep = ',')\n",
    "ALL_LABELS = pd.read_csv(paths[1], sep = ',')\n",
    "\n",
    "# read test data\n",
    "TEST_FEATURES = pd.read_csv(paths[2], sep = ',')\n",
    "\n",
    "# Filling NaN values\n",
    "print 'Filling NaN values:'\n",
    "print ALL_FEATURES.isnull().sum()\n",
    "print TEST_FEATURES.isnull().sum()\n",
    "ALL_FEATURES.fillna(-1, inplace=True)\n",
    "TEST_FEATURES.fillna(-1, inplace=True)\n",
    "print"
   ]
  },
  {
   "cell_type": "markdown",
   "metadata": {},
   "source": [
    "### Select features"
   ]
  },
  {
   "cell_type": "code",
   "execution_count": null,
   "metadata": {
    "collapsed": false
   },
   "outputs": [],
   "source": [
    "FEATURES = ['CustomerMD5Key', 'SCID', 'SelectedPackage', 'FirstDriverMaritalStatus', \n",
    "            'CarAnnualMileage', 'CarFuelId', 'CarUsageId', 'FirstDriverAge', 'CarInsuredValue', \n",
    "            'CarAge', 'FirstDriverDrivingLicenseNumberY', 'VoluntaryExcess', 'CarParkingTypeId', \n",
    "            'PolicyHolderNoClaimDiscountYears', 'FirstDriverDrivingLicenceType', 'CoverIsNoClaimDiscountSelected', \n",
    "            'CarDrivingEntitlement', 'CarTransmissionId', 'SocioDemographicId', 'PolicyHolderResidencyArea', \n",
    "            'AllDriversNbConvictions', 'RatedDriverNumber', 'IsPolicyholderAHomeowner', 'CarMakeId', \n",
    "            'DaysSinceCarPurchase', 'NameOfPolicyProduct', 'AffinityCodeId']\n",
    "\n",
    "ALL_FEATURES = ALL_FEATURES[ FEATURES ]\n",
    "TEST_FEATURES = TEST_FEATURES[ FEATURES ]"
   ]
  },
  {
   "cell_type": "markdown",
   "metadata": {},
   "source": [
    "### Convert categorical features to integers"
   ]
  },
  {
   "cell_type": "code",
   "execution_count": null,
   "metadata": {
    "collapsed": false
   },
   "outputs": [],
   "source": [
    "CATEGORICAL_FEATURES = ['SCID', 'NameOfPolicyProduct', 'CarMakeId']\n",
    "\n",
    "for feature in CATEGORICAL_FEATURES:\n",
    "    strings = ALL_FEATURES[feature].unique()\n",
    "    mapping = dict(zip( strings, np.arange(len(strings)) ))\n",
    "    \n",
    "    ALL_FEATURES[ feature ] = ALL_FEATURES[ feature ].map(mapping)\n",
    "    TEST_FEATURES[ feature ] = TEST_FEATURES[ feature ].map(mapping)\n",
    "    \n"
   ]
  },
  {
   "cell_type": "markdown",
   "metadata": {},
   "source": [
    "### Adding label column"
   ]
  },
  {
   "cell_type": "code",
   "execution_count": null,
   "metadata": {
    "collapsed": false
   },
   "outputs": [],
   "source": [
    "ALL = pd.concat([ALL_FEATURES, ALL_LABELS['Converted']], axis = 1)\n",
    "ALL.columns = list(ALL.columns)[:-1] + ['Label']"
   ]
  },
  {
   "cell_type": "code",
   "execution_count": null,
   "metadata": {
    "collapsed": false
   },
   "outputs": [],
   "source": [
    "ALL"
   ]
  },
  {
   "cell_type": "markdown",
   "metadata": {},
   "source": [
    "### Split data"
   ]
  },
  {
   "cell_type": "code",
   "execution_count": null,
   "metadata": {
    "collapsed": false
   },
   "outputs": [],
   "source": [
    "customers = np.random.permutation(ALL['CustomerMD5Key'].unique())\n",
    "\n",
    "TRAIN_IDS = customers[                         :int(0.8 * len(customers))]\n",
    "\n",
    "TRAIN_IDS = set(TRAIN_IDS)\n",
    "ALL['is_train_data'] = ALL['CustomerMD5Key'].apply(lambda x: x in TRAIN_IDS)\n",
    "\n",
    "TRAIN = ALL[ ALL['is_train_data'] == True ].reset_index()\n",
    "VALID = ALL[ ALL['is_train_data'] == False].reset_index()"
   ]
  },
  {
   "cell_type": "code",
   "execution_count": null,
   "metadata": {
    "collapsed": false
   },
   "outputs": [],
   "source": [
    "for category in ['SCID', 'SelectedPackage', 'FirstDriverMaritalStatus', 'CarFuelId',\n",
    "                 'CarUsageId', 'FirstDriverDrivingLicenseNumberY', 'CarParkingTypeId', 'FirstDriverDrivingLicenceType',\n",
    "                 'CoverIsNoClaimDiscountSelected', 'CarDrivingEntitlement', 'CarTransmissionId',\n",
    "                 'SocioDemographicId', 'PolicyHolderResidencyArea',\n",
    "                 'AllDriversNbConvictions', 'RatedDriverNumber', 'IsPolicyholderAHomeowner',\n",
    "                 'CarMakeId', 'NameOfPolicyProduct', 'AffinityCodeId']:\n",
    "    groups = TRAIN.groupby(category)\n",
    "\n",
    "    mapping_sum = groups['Label'].sum()\n",
    "    mapping_sum = dict(zip(mapping_sum.keys(), mapping_sum.tolist()))\n",
    "\n",
    "    mapping_total = groups.size()\n",
    "    mapping_total = dict(zip(mapping_total.keys(), mapping_total.tolist()))\n",
    "\n",
    "    TRAIN['%s_prior' % category] = (TRAIN[category].map(mapping_sum) - TRAIN['Label']) /\\\n",
    "            (TRAIN[category].map(mapping_total) - 1)\n",
    "        \n",
    "    VALID['%s_prior' % category] = (VALID[category].map(mapping_sum) - VALID['Label']) /\\\n",
    "            (VALID[category].map(mapping_total) - 1)\n",
    "    \n",
    "    ALL['%s_prior' % category] = (ALL[category].map(mapping_sum) - ALL['Label']) /\\\n",
    "            (ALL[category].map(mapping_total) - 1)\n",
    "        \n",
    "        \n",
    "# Reset unknown priors to zero\n",
    "ALL.fillna(0., inplace=True)\n",
    "TRAIN.fillna(0., inplace=True)\n",
    "VALID.fillna(0., inplace=True)\n",
    "# TEST.fillna(0., inplace=True)"
   ]
  },
  {
   "cell_type": "markdown",
   "metadata": {},
   "source": [
    "### Drop is_train_data boolean"
   ]
  },
  {
   "cell_type": "code",
   "execution_count": null,
   "metadata": {
    "collapsed": false
   },
   "outputs": [],
   "source": [
    "for df in [ALL, TRAIN, VALID]:\n",
    "    df.drop('is_train_data', axis=1, inplace=True)"
   ]
  },
  {
   "cell_type": "markdown",
   "metadata": {},
   "source": [
    "### Save the data"
   ]
  },
  {
   "cell_type": "code",
   "execution_count": null,
   "metadata": {
    "collapsed": false
   },
   "outputs": [],
   "source": [
    "# if not os.path.exists('preprocessed'):\n",
    "#     os.mkdir('preprocessed')\n",
    "\n",
    "# for path, df in zip(['train_all.csv', 'train.csv', 'valid.csv'],[ALL, TRAIN, VALID]):\n",
    "#     df.to_csv(os.path.join('preprocessed', path))"
   ]
  },
  {
   "cell_type": "code",
   "execution_count": null,
   "metadata": {
    "collapsed": false
   },
   "outputs": [],
   "source": [
    "print ALL.isnull().sum()\n",
    "print TEST.isnull().sum()"
   ]
  },
  {
   "cell_type": "code",
   "execution_count": null,
   "metadata": {
    "collapsed": true
   },
   "outputs": [],
   "source": []
  }
 ],
 "metadata": {
  "kernelspec": {
   "display_name": "Python 2",
   "language": "python",
   "name": "python2"
  },
  "language_info": {
   "codemirror_mode": {
    "name": "ipython",
    "version": 2
   },
   "file_extension": ".py",
   "mimetype": "text/x-python",
   "name": "python",
   "nbconvert_exporter": "python",
   "pygments_lexer": "ipython2",
   "version": "2.7.10"
  }
 },
 "nbformat": 4,
 "nbformat_minor": 0
}
